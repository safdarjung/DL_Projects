{
  "nbformat": 4,
  "nbformat_minor": 0,
  "metadata": {
    "colab": {
      "provenance": [],
      "authorship_tag": "ABX9TyM5Fb/mcXVdeiYebjEgLMAV",
      "include_colab_link": true
    },
    "kernelspec": {
      "name": "python3",
      "display_name": "Python 3"
    },
    "language_info": {
      "name": "python"
    }
  },
  "cells": [
    {
      "cell_type": "markdown",
      "metadata": {
        "id": "view-in-github",
        "colab_type": "text"
      },
      "source": [
        "<a href=\"https://colab.research.google.com/github/safdarjung/DL_Projects/blob/main/Pytorch_MultiClassification.ipynb\" target=\"_parent\"><img src=\"https://colab.research.google.com/assets/colab-badge.svg\" alt=\"Open In Colab\"/></a>"
      ]
    },
    {
      "cell_type": "code",
      "execution_count": null,
      "metadata": {
        "id": "tezx9G_oIJFN"
      },
      "outputs": [],
      "source": [
        "import torch\n",
        "import torch.nn as nn\n",
        "import torch.optim as optim\n",
        "from torch.utils.data import Dataset, DataLoader\n",
        "from sklearn.datasets import load_digits\n",
        "from sklearn.model_selection import train_test_split\n",
        "from sklearn.preprocessing import StandardScaler\n",
        "from sklearn.metrics import accuracy_score"
      ]
    },
    {
      "cell_type": "code",
      "source": [
        "digits = load_digits()\n",
        "X, y = digits.data, digits.target"
      ],
      "metadata": {
        "id": "_9IyUNhHIfaK"
      },
      "execution_count": null,
      "outputs": []
    },
    {
      "cell_type": "code",
      "source": [
        "x_train, x_test, y_train, y_test = train_test_split(X, y, test_size=0.2, random_state=42)"
      ],
      "metadata": {
        "id": "ovu6py30IkgP"
      },
      "execution_count": null,
      "outputs": []
    },
    {
      "cell_type": "code",
      "source": [
        "sc = StandardScaler()\n",
        "x_train = sc.fit_transform(x_train)\n",
        "x_test = sc.transform(x_test)"
      ],
      "metadata": {
        "id": "ZqQPrC4VInUD"
      },
      "execution_count": null,
      "outputs": []
    },
    {
      "cell_type": "code",
      "source": [
        "class CustomDataset(Dataset):\n",
        "  def __init__(self, data, target):\n",
        "    self.data = torch.tensor(data, dtype=torch.float32)\n",
        "    self.target = torch.tensor(target, dtype=torch.long)\n",
        "\n",
        "  def __len__(self):\n",
        "    return len(self.data)\n",
        "\n",
        "  def __getitem__(self, idx):\n",
        "    sample = {\"data\": self.data[idx], \"target\":self.target[idx]}\n",
        "    return sample"
      ],
      "metadata": {
        "id": "o6BZY-pmIskx"
      },
      "execution_count": null,
      "outputs": []
    },
    {
      "cell_type": "code",
      "source": [
        "train_dataset = CustomDataset(x_train, y_train)\n",
        "test_dataset = CustomDataset(x_test, y_test)\n"
      ],
      "metadata": {
        "id": "s__0cDJ3JKk5"
      },
      "execution_count": null,
      "outputs": []
    },
    {
      "cell_type": "code",
      "source": [
        "len(train_dataset)"
      ],
      "metadata": {
        "colab": {
          "base_uri": "https://localhost:8080/"
        },
        "id": "tgTHxT9WJi6C",
        "outputId": "fe196204-48bc-4c53-cad8-ef49eddb8032"
      },
      "execution_count": null,
      "outputs": [
        {
          "output_type": "execute_result",
          "data": {
            "text/plain": [
              "1437"
            ]
          },
          "metadata": {},
          "execution_count": 8
        }
      ]
    },
    {
      "cell_type": "code",
      "source": [
        "len(test_dataset)"
      ],
      "metadata": {
        "colab": {
          "base_uri": "https://localhost:8080/"
        },
        "id": "EvQd6jD8JohE",
        "outputId": "b1ffbe7e-3312-4827-8a4f-807e57b7943c"
      },
      "execution_count": null,
      "outputs": [
        {
          "output_type": "execute_result",
          "data": {
            "text/plain": [
              "360"
            ]
          },
          "metadata": {},
          "execution_count": 9
        }
      ]
    },
    {
      "cell_type": "code",
      "source": [
        "train_data_loader = DataLoader(train_dataset, batch_size=32, shuffle=True, num_workers=2)\n",
        "test_data_loader = DataLoader(test_dataset, batch_size=32, shuffle=False, num_workers=2)\n"
      ],
      "metadata": {
        "id": "w3doDWuwJrn4"
      },
      "execution_count": null,
      "outputs": []
    },
    {
      "cell_type": "code",
      "source": [
        "class SimpleNN(nn.Module):\n",
        "  def __init__(self, input_size, hidden_size, num_classes):\n",
        "    super(SimpleNN, self).__init__()\n",
        "    self.layer1 = nn.Linear(input_size, hidden_size)\n",
        "    self.relu = nn.ReLU()\n",
        "    self.layer2 = nn.Linear(hidden_size, num_classes)\n",
        "\n",
        "  def forward(self,x):\n",
        "    out = self.layer1(x)\n",
        "    out = self.relu(out)\n",
        "    out = self.layer2(out)\n",
        "    return out"
      ],
      "metadata": {
        "id": "1rmn9GW2KLW6"
      },
      "execution_count": null,
      "outputs": []
    },
    {
      "cell_type": "code",
      "source": [
        "input_size = x_train.shape[1]\n",
        "hidden_size = 64\n",
        "output_size = len(set(y_train))\n"
      ],
      "metadata": {
        "id": "6VjdHFf4KhqZ"
      },
      "execution_count": null,
      "outputs": []
    },
    {
      "cell_type": "code",
      "source": [
        "model = SimpleNN(input_size, hidden_size, output_size)\n",
        "criterion = nn.CrossEntropyLoss()\n",
        "optimizer = optim.Adam(model.parameters(), lr=0.001)"
      ],
      "metadata": {
        "id": "rZaQ-dRXKw-b"
      },
      "execution_count": null,
      "outputs": []
    },
    {
      "cell_type": "code",
      "source": [
        "\n",
        "num_epochs = 100\n",
        "\n",
        "for epoch in range(num_epochs):\n",
        "  model.train()\n",
        "  running_loss = 0.0\n",
        "  for batch in train_data_loader:\n",
        "    data = batch[\"data\"]\n",
        "    target = batch[\"target\"]\n",
        "\n",
        "    optimizer.zero_grad()\n",
        "    output = model(data)\n",
        "\n",
        "    loss = criterion(output, target)\n",
        "    loss.backward()\n",
        "    optimizer.step()\n",
        "    running_loss += loss.item()\n",
        "\n",
        "  epoch_loss = running_loss / len(train_data_loader)\n",
        "  print(f\"Epoch [{epoch+1}/{num_epochs}], Loss: {epoch_loss:.4f}\")"
      ],
      "metadata": {
        "colab": {
          "base_uri": "https://localhost:8080/"
        },
        "id": "DHl-HuU2K5OG",
        "outputId": "282d35dc-1a1a-4fb9-cecb-ba6d9c243108"
      },
      "execution_count": null,
      "outputs": [
        {
          "output_type": "stream",
          "name": "stdout",
          "text": [
            "Epoch [1/100], Loss: 1.9051\n",
            "Epoch [2/100], Loss: 1.1041\n",
            "Epoch [3/100], Loss: 0.5971\n",
            "Epoch [4/100], Loss: 0.3713\n",
            "Epoch [5/100], Loss: 0.2627\n",
            "Epoch [6/100], Loss: 0.2006\n",
            "Epoch [7/100], Loss: 0.1620\n",
            "Epoch [8/100], Loss: 0.1341\n",
            "Epoch [9/100], Loss: 0.1139\n",
            "Epoch [10/100], Loss: 0.0981\n",
            "Epoch [11/100], Loss: 0.0853\n",
            "Epoch [12/100], Loss: 0.0747\n",
            "Epoch [13/100], Loss: 0.0656\n",
            "Epoch [14/100], Loss: 0.0578\n",
            "Epoch [15/100], Loss: 0.0514\n",
            "Epoch [16/100], Loss: 0.0462\n",
            "Epoch [17/100], Loss: 0.0414\n",
            "Epoch [18/100], Loss: 0.0375\n",
            "Epoch [19/100], Loss: 0.0338\n",
            "Epoch [20/100], Loss: 0.0304\n",
            "Epoch [21/100], Loss: 0.0279\n",
            "Epoch [22/100], Loss: 0.0254\n",
            "Epoch [23/100], Loss: 0.0233\n",
            "Epoch [24/100], Loss: 0.0214\n",
            "Epoch [25/100], Loss: 0.0195\n",
            "Epoch [26/100], Loss: 0.0179\n",
            "Epoch [27/100], Loss: 0.0166\n",
            "Epoch [28/100], Loss: 0.0153\n",
            "Epoch [29/100], Loss: 0.0142\n",
            "Epoch [30/100], Loss: 0.0131\n",
            "Epoch [31/100], Loss: 0.0122\n",
            "Epoch [32/100], Loss: 0.0114\n",
            "Epoch [33/100], Loss: 0.0106\n",
            "Epoch [34/100], Loss: 0.0099\n",
            "Epoch [35/100], Loss: 0.0092\n",
            "Epoch [36/100], Loss: 0.0087\n",
            "Epoch [37/100], Loss: 0.0082\n",
            "Epoch [38/100], Loss: 0.0077\n",
            "Epoch [39/100], Loss: 0.0073\n",
            "Epoch [40/100], Loss: 0.0069\n",
            "Epoch [41/100], Loss: 0.0064\n",
            "Epoch [42/100], Loss: 0.0060\n",
            "Epoch [43/100], Loss: 0.0057\n",
            "Epoch [44/100], Loss: 0.0054\n",
            "Epoch [45/100], Loss: 0.0051\n",
            "Epoch [46/100], Loss: 0.0049\n",
            "Epoch [47/100], Loss: 0.0046\n",
            "Epoch [48/100], Loss: 0.0044\n",
            "Epoch [49/100], Loss: 0.0041\n",
            "Epoch [50/100], Loss: 0.0040\n",
            "Epoch [51/100], Loss: 0.0038\n",
            "Epoch [52/100], Loss: 0.0036\n",
            "Epoch [53/100], Loss: 0.0034\n",
            "Epoch [54/100], Loss: 0.0033\n",
            "Epoch [55/100], Loss: 0.0031\n",
            "Epoch [56/100], Loss: 0.0030\n",
            "Epoch [57/100], Loss: 0.0029\n",
            "Epoch [58/100], Loss: 0.0027\n",
            "Epoch [59/100], Loss: 0.0026\n",
            "Epoch [60/100], Loss: 0.0025\n",
            "Epoch [61/100], Loss: 0.0024\n",
            "Epoch [62/100], Loss: 0.0023\n",
            "Epoch [63/100], Loss: 0.0022\n",
            "Epoch [64/100], Loss: 0.0021\n",
            "Epoch [65/100], Loss: 0.0020\n",
            "Epoch [66/100], Loss: 0.0019\n",
            "Epoch [67/100], Loss: 0.0019\n",
            "Epoch [68/100], Loss: 0.0018\n",
            "Epoch [69/100], Loss: 0.0017\n",
            "Epoch [70/100], Loss: 0.0017\n",
            "Epoch [71/100], Loss: 0.0016\n",
            "Epoch [72/100], Loss: 0.0015\n",
            "Epoch [73/100], Loss: 0.0015\n",
            "Epoch [74/100], Loss: 0.0014\n",
            "Epoch [75/100], Loss: 0.0014\n",
            "Epoch [76/100], Loss: 0.0013\n",
            "Epoch [77/100], Loss: 0.0013\n",
            "Epoch [78/100], Loss: 0.0012\n",
            "Epoch [79/100], Loss: 0.0012\n",
            "Epoch [80/100], Loss: 0.0011\n",
            "Epoch [81/100], Loss: 0.0011\n",
            "Epoch [82/100], Loss: 0.0011\n",
            "Epoch [83/100], Loss: 0.0010\n",
            "Epoch [84/100], Loss: 0.0010\n",
            "Epoch [85/100], Loss: 0.0010\n",
            "Epoch [86/100], Loss: 0.0009\n",
            "Epoch [87/100], Loss: 0.0009\n",
            "Epoch [88/100], Loss: 0.0009\n",
            "Epoch [89/100], Loss: 0.0008\n",
            "Epoch [90/100], Loss: 0.0008\n",
            "Epoch [91/100], Loss: 0.0008\n",
            "Epoch [92/100], Loss: 0.0008\n",
            "Epoch [93/100], Loss: 0.0007\n",
            "Epoch [94/100], Loss: 0.0007\n",
            "Epoch [95/100], Loss: 0.0007\n",
            "Epoch [96/100], Loss: 0.0007\n",
            "Epoch [97/100], Loss: 0.0007\n",
            "Epoch [98/100], Loss: 0.0006\n",
            "Epoch [99/100], Loss: 0.0006\n",
            "Epoch [100/100], Loss: 0.0006\n"
          ]
        }
      ]
    },
    {
      "cell_type": "code",
      "source": [
        "model.eval()\n",
        "all_pred = []\n",
        "all_targets = []\n",
        "\n",
        "with torch.no_grad():\n",
        "  for batch in test_data_loader:\n",
        "    data = batch[\"data\"]\n",
        "    target = batch[\"target\"]\n",
        "    output = model(data)\n",
        "    pred = torch.argmax(output, 1)\n",
        "    all_pred.extend(pred.numpy())\n",
        "    all_targets.extend(target.numpy())\n",
        "\n",
        "accuracy = accuracy_score(all_targets, all_pred)\n",
        "\n",
        "print(f\"Test Accuracy: {accuracy * 100:.2f}%\")"
      ],
      "metadata": {
        "colab": {
          "base_uri": "https://localhost:8080/"
        },
        "id": "se753uymLiAC",
        "outputId": "6fb44c5b-8e09-4772-cd31-6102e44175fa"
      },
      "execution_count": null,
      "outputs": [
        {
          "output_type": "stream",
          "name": "stdout",
          "text": [
            "Test Accuracy: 97.22%\n"
          ]
        }
      ]
    },
    {
      "cell_type": "code",
      "source": [],
      "metadata": {
        "id": "j1fyiY0eMOKR"
      },
      "execution_count": null,
      "outputs": []
    }
  ]
}